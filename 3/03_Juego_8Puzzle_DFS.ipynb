{
 "cells": [
  {
   "cell_type": "code",
   "execution_count": null,
   "id": "8c0185e9",
   "metadata": {},
   "outputs": [
    {
     "name": "stdout",
     "output_type": "stream",
     "text": [
      "Estado inicial:\n",
      "(1, 0, 4)\n",
      "(5, 7, 8)\n",
      "(3, 6, 2)\n",
      "No se encontró solución dentro del límite de profundidad.\n"
     ]
    }
   ],
   "source": [
    "import random\n",
    "\n",
    "OBJETIVO = (1, 2, 3, 4, 5, 6, 7, 8, 0)\n",
    "MOVS = {'arriba': -3, 'abajo': 3, 'izq': -1, 'der': 1}\n",
    "\n",
    "def es_resoluble(estado): \n",
    "    inversions = 0\n",
    "    lista = [n for n in estado if n != 0]\n",
    "    for i in range(len(lista)):\n",
    "        for j in range(i+1, len(lista)):\n",
    "            if lista[i] > lista[j]:\n",
    "                inversions += 1\n",
    "    return inversions % 2 == 0\n",
    "\n",
    "def generar_estado_aleatorio():\n",
    "    while True:\n",
    "        estado = tuple(random.sample(range(9), 9))\n",
    "        if es_resoluble(estado):\n",
    "            return estado\n",
    "\n",
    "def funcion_sucesor(estado):\n",
    "    sucesores = []\n",
    "    i = estado.index(0)\n",
    "    for mov, delta in MOVS.items():\n",
    "        j = i + delta\n",
    "        if mov == 'arriba' and i >= 3:\n",
    "            pass\n",
    "        elif mov == 'abajo' and i < 6:\n",
    "            pass\n",
    "        elif mov == 'izq' and i % 3 != 0:\n",
    "            pass\n",
    "        elif mov == 'der' and i % 3 != 2:\n",
    "            pass\n",
    "        else:\n",
    "            continue\n",
    "        nuevo = list(estado)\n",
    "        nuevo[i], nuevo[j] = nuevo[j], nuevo[i]\n",
    "        sucesores.append(tuple(nuevo))\n",
    "    return sucesores\n",
    "\n",
    "def dfs(inicial):\n",
    "    pila = [(inicial, [])]\n",
    "    visitados = set()\n",
    "\n",
    "    while pila:\n",
    "        estado, camino = pila.pop()\n",
    "        if estado == OBJETIVO:\n",
    "            return camino + [estado]\n",
    "        if estado in visitados:\n",
    "            continue\n",
    "        visitados.add(estado)\n",
    "        for sucesor in funcion_sucesor(estado):\n",
    "            if sucesor not in visitados:\n",
    "                pila.append((sucesor, camino + [estado]))\n",
    "    return None\n",
    "\n",
    "# Arce Mendivil Carlos Antonio\n",
    "# Este codigo fue re-hecho de Java a Python.\n",
    "estado_inicial = generar_estado_aleatorio()\n",
    "print(\"Estado inicial:\")\n",
    "for i in range(0, 9, 3):\n",
    "    print(estado_inicial[i:i+3])\n",
    "\n",
    "solucion = dfs(estado_inicial)\n",
    "if solucion:\n",
    "    print(f\"Pasos a la solución: {len(solucion)-1}\")\n",
    "    for idx, paso in enumerate(solucion):\n",
    "        print(f\"Paso {idx}:\")\n",
    "        for i in range(0, 9, 3):\n",
    "            print(paso[i:i+3])\n",
    "        print()\n",
    "else:\n",
    "    print(\"No se encontró solución.\")\n"
   ]
  }
 ],
 "metadata": {
  "kernelspec": {
   "display_name": "Python 3",
   "language": "python",
   "name": "python3"
  },
  "language_info": {
   "codemirror_mode": {
    "name": "ipython",
    "version": 3
   },
   "file_extension": ".py",
   "mimetype": "text/x-python",
   "name": "python",
   "nbconvert_exporter": "python",
   "pygments_lexer": "ipython3",
   "version": "3.12.6"
  }
 },
 "nbformat": 4,
 "nbformat_minor": 5
}
