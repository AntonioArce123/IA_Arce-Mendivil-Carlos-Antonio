{
 "cells": [
  {
   "cell_type": "code",
   "execution_count": null,
   "id": "2ad200e7",
   "metadata": {},
   "outputs": [
    {
     "name": "stdout",
     "output_type": "stream",
     "text": [
      "Precisión: 0.4666666666666667\n",
      "Reporte de clasificación:\n",
      "              precision    recall  f1-score   support\n",
      "\n",
      "      setosa       0.45      1.00      0.62        19\n",
      "  versicolor       0.50      0.08      0.13        13\n",
      "   virginica       1.00      0.08      0.14        13\n",
      "\n",
      "    accuracy                           0.47        45\n",
      "   macro avg       0.65      0.38      0.30        45\n",
      "weighted avg       0.62      0.47      0.34        45\n",
      "\n"
     ]
    }
   ],
   "source": [
    "# El dataset de Iris es un conjunto de datos clásico en el aprendizaje automático.\n",
    "# Basicamente por ser el mas sencillo de entender y trabajar, lo seleccioene.\n",
    "# Seleccione este ya que solo se importan las características y las etiquetas de clase.\n",
    "from sklearn.datasets import load_iris\n",
    "from sklearn.linear_model import Perceptron\n",
    "from sklearn.model_selection import train_test_split\n",
    "from sklearn.metrics import accuracy_score, classification_report\n",
    "\n",
    "iris = load_iris()\n",
    "X = iris.data\n",
    "y = iris.target\n",
    "\n",
    "X_train, X_test, y_train, y_test = train_test_split(X, y, test_size=0.3, random_state=42)\n",
    "\n",
    "model = Perceptron(max_iter=1000, eta0=0.1, random_state=42)\n",
    "model.fit(X_train, y_train)\n",
    "\n",
    "y_pred = model.predict(X_test)\n",
    "\n",
    "print(\"Precisión:\", accuracy_score(y_test, y_pred))\n",
    "print(\"Reporte de clasificación:\")\n",
    "print(classification_report(y_test, y_pred, target_names=iris.target_names))\n"
   ]
  },
  {
   "cell_type": "code",
   "execution_count": null,
   "id": "85bb0ee1",
   "metadata": {},
   "outputs": [],
   "source": []
  }
 ],
 "metadata": {
  "kernelspec": {
   "display_name": "Python 3",
   "language": "python",
   "name": "python3"
  },
  "language_info": {
   "codemirror_mode": {
    "name": "ipython",
    "version": 3
   },
   "file_extension": ".py",
   "mimetype": "text/x-python",
   "name": "python",
   "nbconvert_exporter": "python",
   "pygments_lexer": "ipython3",
   "version": "3.12.6"
  }
 },
 "nbformat": 4,
 "nbformat_minor": 5
}
